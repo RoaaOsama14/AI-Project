{
 "cells": [
  {
   "cell_type": "code",
   "execution_count": 100,
   "id": "6f1bf077",
   "metadata": {},
   "outputs": [],
   "source": [
    "import tkinter as tk\n",
    "from tkinter import filedialog,Toplevel\n",
    "from tkinter.filedialog import askopenfile\n",
    "from PIL import Image, ImageTk\n",
    "from tkinter.ttk import *\n",
    "import cv2\n",
    "\n",
    "\n",
    "my_w = tk.Tk()\n",
    "my_w.geometry(\"520x650\")  # Size of the window \n",
    "my_w.title('Classifying differnt types of cancer')\n",
    "my_w.resizable(False, False)\n",
    "my_w.configure(bg='#f5ebdf')\n",
    "\n",
    "my_font1=('Andalus', 18, 'bold')\n",
    "l1 = tk.Label(my_w,text='Add Data with Photo',width=30,font=my_font1, bg='#f5ebdf')  \n",
    "l1.place(x=50,y=20)\n",
    "b1 = tk.Button(my_w, text='Upload File',width=20,command = lambda:upload_file(), bg='#D06D6D')\n",
    "b1.place(x=180,y=60)\n",
    "\n",
    "def upload_file():\n",
    "    global img\n",
    "    f_types = [('JPG  Files', '*.jpg')]\n",
    "    filename = filedialog.askopenfilename(filetypes=f_types)\n",
    "    img = ImageTk.PhotoImage(file=filename)\n",
    "   \n",
    "    \n",
    "    b2 =tk.Button(my_w,image=img) # using Button \n",
    "    b2.place(x=0, y=90)\n",
    "    \n",
    "    \n",
    "b2 = tk.Button(my_w, text='Find Out',width=20,command = lambda:Find_Out(), bg='#D06D6D')\n",
    "b2.place(x=180,y=615)\n",
    "\n",
    "def Find_Out():\n",
    "    newWindow = Toplevel(my_w)\n",
    "    newWindow.title(\"Result\")\n",
    "    newWindow.geometry(\"400x400\")\n",
    "    tk.Label(newWindow,\n",
    "          text =\"Cancer/Not Cancer\",font=my_font1,bg='#f5ebdf').pack()\n",
    "    newWindow.configure(bg='#f5ebdf')\n",
    "\n",
    "my_w.mainloop()  # Keep the window open"
   ]
  },
  {
   "cell_type": "code",
   "execution_count": null,
   "id": "8bbb6674",
   "metadata": {},
   "outputs": [],
   "source": []
  },
  {
   "cell_type": "code",
   "execution_count": null,
   "id": "55e975b0",
   "metadata": {},
   "outputs": [],
   "source": []
  },
  {
   "cell_type": "code",
   "execution_count": null,
   "id": "1207a92c",
   "metadata": {},
   "outputs": [],
   "source": []
  }
 ],
 "metadata": {
  "kernelspec": {
   "display_name": "CancerClassification",
   "language": "python",
   "name": "cancerclassification"
  },
  "language_info": {
   "codemirror_mode": {
    "name": "ipython",
    "version": 3
   },
   "file_extension": ".py",
   "mimetype": "text/x-python",
   "name": "python",
   "nbconvert_exporter": "python",
   "pygments_lexer": "ipython3",
   "version": "3.9.16"
  }
 },
 "nbformat": 4,
 "nbformat_minor": 5
}
